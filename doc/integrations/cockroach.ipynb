{
 "cells": [
  {
   "cell_type": "markdown",
   "id": "e2f9c7d6-0a5b-4f7e-ac1d-8e27def06a7d",
   "metadata": {
    "tags": []
   },
   "source": [
    "# Cockroach\n",
    "\n",
    "This tutorial will show you how to get a Cockroach instance up and running locally to test JupySQL. You can run this in a Jupyter notebook."
   ]
  },
  {
   "cell_type": "markdown",
   "id": "4d4087b9-d487-4b32-a0b7-3a111a818228",
   "metadata": {
    "tags": []
   },
   "source": [
    "## Pre-requisites\n",
    "\n",
    "To run this tutorial, you need to install following Python packages:"
   ]
  },
  {
   "cell_type": "code",
   "execution_count": 1,
   "id": "e4eacb1c-e33f-4c2c-be6e-6405e13a3140",
   "metadata": {
    "tags": []
   },
   "outputs": [
    {
     "name": "stdout",
     "output_type": "stream",
     "text": [
      "Note: you may need to restart the kernel to use updated packages.\n"
     ]
    }
   ],
   "source": [
    "%pip install sqlalchemy-cockroachdb --quiet"
   ]
  },
  {
   "cell_type": "markdown",
   "id": "6742d4e6-fbdb-4470-92de-8cc04caff356",
   "metadata": {
    "tags": []
   },
   "source": [
    "## Start Cockroach instance\n",
    "\n",
    "We fetch the official image, create a new database, and user (this will take 1-2 minutes):"
   ]
  },
  {
   "cell_type": "code",
   "execution_count": 59,
   "id": "1393e5bf-20ca-4f2d-a4ed-ef193d070743",
   "metadata": {
    "tags": []
   },
   "outputs": [
    {
     "name": "stdout",
     "output_type": "stream",
     "text": [
      "f6fa357317912bfbcc83adae20bff789915f84f59645daab47ecc01d530d0a0b\n"
     ]
    }
   ],
   "source": [
    "%%bash\n",
    "docker run --rm -d --name=roach \\\n",
    "-p 8080:8080 -p 26257:26257 \\\n",
    "cockroachdb/cockroach:latest \\\n",
    "start-single-node --insecure"
   ]
  },
  {
   "cell_type": "markdown",
   "id": "db224259-45cd-48d9-a648-f48c48232636",
   "metadata": {},
   "source": [
    "## Load sample data\n",
    "\n",
    "Now, let's fetch some sample data. We'll be using the [NYC taxi dataset](https://www.nyc.gov/site/tlc/about/tlc-trip-record-data.page):"
   ]
  },
  {
   "cell_type": "code",
   "execution_count": 60,
   "id": "24a2f3ef-de07-449e-b350-94e01713374e",
   "metadata": {
    "tags": []
   },
   "outputs": [
    {
     "data": {
      "text/plain": [
       "(1369769, 19)"
      ]
     },
     "execution_count": 60,
     "metadata": {},
     "output_type": "execute_result"
    }
   ],
   "source": [
    "import pandas as pd\n",
    "\n",
    "df = pd.read_parquet(\n",
    "    \"https://d37ci6vzurychx.cloudfront.net/trip-data/yellow_tripdata_2021-01.parquet\"\n",
    ")\n",
    "df.shape"
   ]
  },
  {
   "cell_type": "code",
   "execution_count": 63,
   "id": "72ad8852-5378-469a-99f3-686d0a600338",
   "metadata": {
    "tags": []
   },
   "outputs": [],
   "source": [
    "from sqlalchemy import create_engine\n",
    "\n",
    "engine = create_engine(\n",
    "    \"cockroachdb+psycopg2://root@localhost:26257/defaultdb?sslmode=disable\"\n",
    ")\n",
    "df.sample(1000).to_sql(\n",
    "    name=\"taxi\", con=engine, chunksize=1000, if_exists=\"replace\", index=True\n",
    ")\n",
    "engine.dispose()"
   ]
  },
  {
   "cell_type": "markdown",
   "id": "0fc60a35-4c00-41f4-bd61-9131a46eeaeb",
   "metadata": {},
   "source": [
    "## Query\n",
    "\n",
    "Now, let's start JupySQL, authenticate and start querying the data!"
   ]
  },
  {
   "cell_type": "code",
   "execution_count": 64,
   "id": "8e986b4c-48de-431f-b692-39de711cef59",
   "metadata": {
    "tags": []
   },
   "outputs": [
    {
     "name": "stdout",
     "output_type": "stream",
     "text": [
      "The sql extension is already loaded. To reload it, use:\n",
      "  %reload_ext sql\n"
     ]
    }
   ],
   "source": [
    "%load_ext sql"
   ]
  },
  {
   "cell_type": "code",
   "execution_count": 67,
   "id": "47167d6c-2a57-47bf-9551-7afc1b60854c",
   "metadata": {
    "tags": []
   },
   "outputs": [],
   "source": [
    "%sql cockroachdb+psycopg2://root@localhost:26257/defaultdb?sslmode=disable"
   ]
  },
  {
   "cell_type": "markdown",
   "id": "c1f69c3d-fe46-47c5-a990-ecf7c05200b4",
   "metadata": {},
   "source": [
    "```{important}\n",
    "If the cell above fails, you might have some missing packages. Message us on [Slack](https://ploomber.io/community) and we'll help you!\n",
    "```"
   ]
  },
  {
   "cell_type": "markdown",
   "id": "e2b1503a-97ef-4292-9bcf-6a2dff3fe0af",
   "metadata": {},
   "source": [
    "List the tables in the database:"
   ]
  },
  {
   "cell_type": "code",
   "execution_count": 68,
   "id": "d61d45ea-f076-4fe6-9819-faf7e01fa460",
   "metadata": {
    "tags": []
   },
   "outputs": [
    {
     "data": {
      "text/html": [
       "<table>\n",
       "    <thead>\n",
       "        <tr>\n",
       "            <th>Name</th>\n",
       "        </tr>\n",
       "    </thead>\n",
       "    <tbody>\n",
       "        <tr>\n",
       "            <td>taxi</td>\n",
       "        </tr>\n",
       "    </tbody>\n",
       "</table>"
      ],
      "text/plain": [
       "+------+\n",
       "| Name |\n",
       "+------+\n",
       "| taxi |\n",
       "+------+"
      ]
     },
     "execution_count": 68,
     "metadata": {},
     "output_type": "execute_result"
    }
   ],
   "source": [
    "%sqlcmd tables"
   ]
  },
  {
   "cell_type": "markdown",
   "id": "3df6adb6-a462-4e54-9932-9e9d1a8a1c54",
   "metadata": {},
   "source": [
    "List columns in the taxi table:"
   ]
  },
  {
   "cell_type": "code",
   "execution_count": 69,
   "id": "ec299e82-94d8-4bda-9d6c-8a71d9c6beaf",
   "metadata": {
    "tags": []
   },
   "outputs": [
    {
     "data": {
      "text/html": [
       "<table>\n",
       "    <thead>\n",
       "        <tr>\n",
       "            <th>name</th>\n",
       "            <th>type</th>\n",
       "            <th>nullable</th>\n",
       "            <th>default</th>\n",
       "            <th>autoincrement</th>\n",
       "            <th>is_hidden</th>\n",
       "        </tr>\n",
       "    </thead>\n",
       "    <tbody>\n",
       "        <tr>\n",
       "            <td>index</td>\n",
       "            <td>INTEGER</td>\n",
       "            <td>True</td>\n",
       "            <td>None</td>\n",
       "            <td>False</td>\n",
       "            <td>False</td>\n",
       "        </tr>\n",
       "        <tr>\n",
       "            <td>VendorID</td>\n",
       "            <td>INTEGER</td>\n",
       "            <td>True</td>\n",
       "            <td>None</td>\n",
       "            <td>False</td>\n",
       "            <td>False</td>\n",
       "        </tr>\n",
       "        <tr>\n",
       "            <td>tpep_pickup_datetime</td>\n",
       "            <td>TIMESTAMP</td>\n",
       "            <td>True</td>\n",
       "            <td>None</td>\n",
       "            <td>False</td>\n",
       "            <td>False</td>\n",
       "        </tr>\n",
       "        <tr>\n",
       "            <td>tpep_dropoff_datetime</td>\n",
       "            <td>TIMESTAMP</td>\n",
       "            <td>True</td>\n",
       "            <td>None</td>\n",
       "            <td>False</td>\n",
       "            <td>False</td>\n",
       "        </tr>\n",
       "        <tr>\n",
       "            <td>passenger_count</td>\n",
       "            <td>FLOAT</td>\n",
       "            <td>True</td>\n",
       "            <td>None</td>\n",
       "            <td>False</td>\n",
       "            <td>False</td>\n",
       "        </tr>\n",
       "        <tr>\n",
       "            <td>trip_distance</td>\n",
       "            <td>FLOAT</td>\n",
       "            <td>True</td>\n",
       "            <td>None</td>\n",
       "            <td>False</td>\n",
       "            <td>False</td>\n",
       "        </tr>\n",
       "        <tr>\n",
       "            <td>RatecodeID</td>\n",
       "            <td>FLOAT</td>\n",
       "            <td>True</td>\n",
       "            <td>None</td>\n",
       "            <td>False</td>\n",
       "            <td>False</td>\n",
       "        </tr>\n",
       "        <tr>\n",
       "            <td>store_and_fwd_flag</td>\n",
       "            <td>VARCHAR</td>\n",
       "            <td>True</td>\n",
       "            <td>None</td>\n",
       "            <td>False</td>\n",
       "            <td>False</td>\n",
       "        </tr>\n",
       "        <tr>\n",
       "            <td>PULocationID</td>\n",
       "            <td>INTEGER</td>\n",
       "            <td>True</td>\n",
       "            <td>None</td>\n",
       "            <td>False</td>\n",
       "            <td>False</td>\n",
       "        </tr>\n",
       "        <tr>\n",
       "            <td>DOLocationID</td>\n",
       "            <td>INTEGER</td>\n",
       "            <td>True</td>\n",
       "            <td>None</td>\n",
       "            <td>False</td>\n",
       "            <td>False</td>\n",
       "        </tr>\n",
       "        <tr>\n",
       "            <td>payment_type</td>\n",
       "            <td>INTEGER</td>\n",
       "            <td>True</td>\n",
       "            <td>None</td>\n",
       "            <td>False</td>\n",
       "            <td>False</td>\n",
       "        </tr>\n",
       "        <tr>\n",
       "            <td>fare_amount</td>\n",
       "            <td>FLOAT</td>\n",
       "            <td>True</td>\n",
       "            <td>None</td>\n",
       "            <td>False</td>\n",
       "            <td>False</td>\n",
       "        </tr>\n",
       "        <tr>\n",
       "            <td>extra</td>\n",
       "            <td>FLOAT</td>\n",
       "            <td>True</td>\n",
       "            <td>None</td>\n",
       "            <td>False</td>\n",
       "            <td>False</td>\n",
       "        </tr>\n",
       "        <tr>\n",
       "            <td>mta_tax</td>\n",
       "            <td>FLOAT</td>\n",
       "            <td>True</td>\n",
       "            <td>None</td>\n",
       "            <td>False</td>\n",
       "            <td>False</td>\n",
       "        </tr>\n",
       "        <tr>\n",
       "            <td>tip_amount</td>\n",
       "            <td>FLOAT</td>\n",
       "            <td>True</td>\n",
       "            <td>None</td>\n",
       "            <td>False</td>\n",
       "            <td>False</td>\n",
       "        </tr>\n",
       "        <tr>\n",
       "            <td>tolls_amount</td>\n",
       "            <td>FLOAT</td>\n",
       "            <td>True</td>\n",
       "            <td>None</td>\n",
       "            <td>False</td>\n",
       "            <td>False</td>\n",
       "        </tr>\n",
       "        <tr>\n",
       "            <td>improvement_surcharge</td>\n",
       "            <td>FLOAT</td>\n",
       "            <td>True</td>\n",
       "            <td>None</td>\n",
       "            <td>False</td>\n",
       "            <td>False</td>\n",
       "        </tr>\n",
       "        <tr>\n",
       "            <td>total_amount</td>\n",
       "            <td>FLOAT</td>\n",
       "            <td>True</td>\n",
       "            <td>None</td>\n",
       "            <td>False</td>\n",
       "            <td>False</td>\n",
       "        </tr>\n",
       "        <tr>\n",
       "            <td>congestion_surcharge</td>\n",
       "            <td>FLOAT</td>\n",
       "            <td>True</td>\n",
       "            <td>None</td>\n",
       "            <td>False</td>\n",
       "            <td>False</td>\n",
       "        </tr>\n",
       "        <tr>\n",
       "            <td>airport_fee</td>\n",
       "            <td>FLOAT</td>\n",
       "            <td>True</td>\n",
       "            <td>None</td>\n",
       "            <td>False</td>\n",
       "            <td>False</td>\n",
       "        </tr>\n",
       "    </tbody>\n",
       "</table>"
      ],
      "text/plain": [
       "+-----------------------+-----------+----------+---------+---------------+-----------+\n",
       "|          name         |    type   | nullable | default | autoincrement | is_hidden |\n",
       "+-----------------------+-----------+----------+---------+---------------+-----------+\n",
       "|         index         |  INTEGER  |   True   |   None  |     False     |   False   |\n",
       "|        VendorID       |  INTEGER  |   True   |   None  |     False     |   False   |\n",
       "|  tpep_pickup_datetime | TIMESTAMP |   True   |   None  |     False     |   False   |\n",
       "| tpep_dropoff_datetime | TIMESTAMP |   True   |   None  |     False     |   False   |\n",
       "|    passenger_count    |   FLOAT   |   True   |   None  |     False     |   False   |\n",
       "|     trip_distance     |   FLOAT   |   True   |   None  |     False     |   False   |\n",
       "|       RatecodeID      |   FLOAT   |   True   |   None  |     False     |   False   |\n",
       "|   store_and_fwd_flag  |  VARCHAR  |   True   |   None  |     False     |   False   |\n",
       "|      PULocationID     |  INTEGER  |   True   |   None  |     False     |   False   |\n",
       "|      DOLocationID     |  INTEGER  |   True   |   None  |     False     |   False   |\n",
       "|      payment_type     |  INTEGER  |   True   |   None  |     False     |   False   |\n",
       "|      fare_amount      |   FLOAT   |   True   |   None  |     False     |   False   |\n",
       "|         extra         |   FLOAT   |   True   |   None  |     False     |   False   |\n",
       "|        mta_tax        |   FLOAT   |   True   |   None  |     False     |   False   |\n",
       "|       tip_amount      |   FLOAT   |   True   |   None  |     False     |   False   |\n",
       "|      tolls_amount     |   FLOAT   |   True   |   None  |     False     |   False   |\n",
       "| improvement_surcharge |   FLOAT   |   True   |   None  |     False     |   False   |\n",
       "|      total_amount     |   FLOAT   |   True   |   None  |     False     |   False   |\n",
       "|  congestion_surcharge |   FLOAT   |   True   |   None  |     False     |   False   |\n",
       "|      airport_fee      |   FLOAT   |   True   |   None  |     False     |   False   |\n",
       "+-----------------------+-----------+----------+---------+---------------+-----------+"
      ]
     },
     "execution_count": 69,
     "metadata": {},
     "output_type": "execute_result"
    }
   ],
   "source": [
    "%sqlcmd columns --table taxi"
   ]
  },
  {
   "cell_type": "markdown",
   "id": "24c3bb80-cdca-4927-9fca-726e5d273a00",
   "metadata": {},
   "source": [
    "Query our data:"
   ]
  },
  {
   "cell_type": "code",
   "execution_count": 70,
   "id": "4fc3ebd4-4bb7-47c9-bfac-1f3f744c541e",
   "metadata": {
    "tags": []
   },
   "outputs": [
    {
     "name": "stdout",
     "output_type": "stream",
     "text": [
      "*  cockroachdb+psycopg2://root@localhost:26257/defaultdb?sslmode=disable\n",
      "1 rows affected.\n"
     ]
    },
    {
     "data": {
      "text/html": [
       "<table>\n",
       "    <thead>\n",
       "        <tr>\n",
       "            <th>count</th>\n",
       "        </tr>\n",
       "    </thead>\n",
       "    <tbody>\n",
       "        <tr>\n",
       "            <td>1000</td>\n",
       "        </tr>\n",
       "    </tbody>\n",
       "</table>"
      ],
      "text/plain": [
       "+-------+\n",
       "| count |\n",
       "+-------+\n",
       "|  1000 |\n",
       "+-------+"
      ]
     },
     "execution_count": 70,
     "metadata": {},
     "output_type": "execute_result"
    }
   ],
   "source": [
    "%%sql\n",
    "SELECT COUNT(*) FROM taxi"
   ]
  },
  {
   "cell_type": "markdown",
   "id": "a9260520-c487-453d-a6a4-00a6b8369fb1",
   "metadata": {},
   "source": [
    "## Parametrize queries\n"
   ]
  },
  {
   "cell_type": "code",
   "execution_count": 71,
   "id": "9ffdcc25-6e91-47c5-9a6f-c8034766fcd6",
   "metadata": {
    "tags": []
   },
   "outputs": [],
   "source": [
    "threshold = 10"
   ]
  },
  {
   "cell_type": "code",
   "execution_count": 72,
   "id": "3c37c815-2a2e-4438-9a70-025e575ba73c",
   "metadata": {
    "tags": []
   },
   "outputs": [
    {
     "name": "stdout",
     "output_type": "stream",
     "text": [
      "*  cockroachdb+psycopg2://root@localhost:26257/defaultdb?sslmode=disable\n",
      "1 rows affected.\n"
     ]
    },
    {
     "data": {
      "text/html": [
       "<table>\n",
       "    <thead>\n",
       "        <tr>\n",
       "            <th>count</th>\n",
       "        </tr>\n",
       "    </thead>\n",
       "    <tbody>\n",
       "        <tr>\n",
       "            <td>949</td>\n",
       "        </tr>\n",
       "    </tbody>\n",
       "</table>"
      ],
      "text/plain": [
       "+-------+\n",
       "| count |\n",
       "+-------+\n",
       "|  949  |\n",
       "+-------+"
      ]
     },
     "execution_count": 72,
     "metadata": {},
     "output_type": "execute_result"
    }
   ],
   "source": [
    "%%sql\n",
    "SELECT COUNT(*) FROM taxi\n",
    "WHERE trip_distance < {{threshold}}"
   ]
  },
  {
   "cell_type": "code",
   "execution_count": 73,
   "id": "58c13b2b-2adb-4f46-8646-3b98643d16fe",
   "metadata": {
    "tags": []
   },
   "outputs": [],
   "source": [
    "threshold = 0.5"
   ]
  },
  {
   "cell_type": "code",
   "execution_count": 74,
   "id": "e1176576-612d-4c08-b954-e5dcfcec318f",
   "metadata": {
    "tags": []
   },
   "outputs": [
    {
     "name": "stdout",
     "output_type": "stream",
     "text": [
      "*  cockroachdb+psycopg2://root@localhost:26257/defaultdb?sslmode=disable\n",
      "1 rows affected.\n"
     ]
    },
    {
     "data": {
      "text/html": [
       "<table>\n",
       "    <thead>\n",
       "        <tr>\n",
       "            <th>count</th>\n",
       "        </tr>\n",
       "    </thead>\n",
       "    <tbody>\n",
       "        <tr>\n",
       "            <td>45</td>\n",
       "        </tr>\n",
       "    </tbody>\n",
       "</table>"
      ],
      "text/plain": [
       "+-------+\n",
       "| count |\n",
       "+-------+\n",
       "|   45  |\n",
       "+-------+"
      ]
     },
     "execution_count": 74,
     "metadata": {},
     "output_type": "execute_result"
    }
   ],
   "source": [
    "%%sql\n",
    "SELECT COUNT(*) FROM taxi\n",
    "WHERE trip_distance < {{threshold}}"
   ]
  },
  {
   "cell_type": "markdown",
   "id": "767208bd-b9cd-4d43-8200-8f8945a2a1aa",
   "metadata": {},
   "source": [
    "## CTEs\n"
   ]
  },
  {
   "cell_type": "code",
   "execution_count": 75,
   "id": "850b5c5d-caa4-4ca2-9764-459ce3e7d0ab",
   "metadata": {
    "tags": []
   },
   "outputs": [
    {
     "name": "stdout",
     "output_type": "stream",
     "text": [
      "*  cockroachdb+psycopg2://root@localhost:26257/defaultdb?sslmode=disable\n",
      "Skipping execution...\n"
     ]
    }
   ],
   "source": [
    "%%sql --save many_passengers --no-execute\n",
    "SELECT *\n",
    "FROM taxi\n",
    "WHERE passenger_count > 3\n",
    "-- remove top 1% outliers for better visualization\n",
    "AND trip_distance < 18.93"
   ]
  },
  {
   "cell_type": "code",
   "execution_count": 76,
   "id": "65b736c5-01ef-436c-8f30-960227b68dc1",
   "metadata": {
    "tags": []
   },
   "outputs": [
    {
     "name": "stdout",
     "output_type": "stream",
     "text": [
      "*  cockroachdb+psycopg2://root@localhost:26257/defaultdb?sslmode=disable\n",
      "1 rows affected.\n"
     ]
    },
    {
     "data": {
      "text/html": [
       "<table>\n",
       "    <thead>\n",
       "        <tr>\n",
       "            <th>min</th>\n",
       "            <th>avg</th>\n",
       "            <th>max</th>\n",
       "        </tr>\n",
       "    </thead>\n",
       "    <tbody>\n",
       "        <tr>\n",
       "            <td>0.4</td>\n",
       "            <td>1.8566666666666674</td>\n",
       "            <td>11.56</td>\n",
       "        </tr>\n",
       "    </tbody>\n",
       "</table>"
      ],
      "text/plain": [
       "+-----+--------------------+-------+\n",
       "| min |        avg         |  max  |\n",
       "+-----+--------------------+-------+\n",
       "| 0.4 | 1.8566666666666674 | 11.56 |\n",
       "+-----+--------------------+-------+"
      ]
     },
     "execution_count": 76,
     "metadata": {},
     "output_type": "execute_result"
    }
   ],
   "source": [
    "%%sql --save trip_stats --with many_passengers\n",
    "SELECT MIN(trip_distance), AVG(trip_distance), MAX(trip_distance)\n",
    "FROM many_passengers"
   ]
  },
  {
   "cell_type": "markdown",
   "id": "97ec7482-151c-4deb-9a17-0e3b9be99559",
   "metadata": {
    "tags": []
   },
   "source": [
    "This is what JupySQL executes:"
   ]
  },
  {
   "cell_type": "code",
   "execution_count": 77,
   "id": "d8ff3470-393f-4a84-8f05-33c1b20394b4",
   "metadata": {
    "tags": []
   },
   "outputs": [
    {
     "name": "stdout",
     "output_type": "stream",
     "text": [
      "WITH many_passengers AS (\n",
      "SELECT *\n",
      "FROM taxi\n",
      "WHERE passenger_count > 3\n",
      "-- remove top 1% outliers for better visualization\n",
      "AND trip_distance < 18.93)\n",
      "SELECT MIN(trip_distance), AVG(trip_distance), MAX(trip_distance)\n",
      "FROM many_passengers\n"
     ]
    }
   ],
   "source": [
    "query = %sqlrender trip_stats\n",
    "print(query)"
   ]
  },
  {
   "cell_type": "markdown",
   "id": "2d08e919-6028-497f-93b6-838a58771d9b",
   "metadata": {
    "tags": []
   },
   "source": [
    "## Plotting"
   ]
  },
  {
   "cell_type": "code",
   "execution_count": 78,
   "id": "bb01a5a7-6853-4097-bd80-e40e51e3f953",
   "metadata": {
    "tags": []
   },
   "outputs": [
    {
     "data": {
      "text/plain": [
       "<Axes: title={'center': \"'trip_distance' from 'taxi'\"}, xlabel='trip_distance', ylabel='Count'>"
      ]
     },
     "execution_count": 78,
     "metadata": {},
     "output_type": "execute_result"
    },
    {
     "data": {
      "image/png": "[encoded data removed]",
      "text/plain": [
       "<Figure size 640x480 with 1 Axes>"
      ]
     },
     "metadata": {},
     "output_type": "display_data"
    }
   ],
   "source": [
    "%sqlplot histogram --table taxi --column trip_distance"
   ]
  },
  {
   "cell_type": "markdown",
   "id": "59902f17-4caf-40b7-ad2b-a2cc52712faa",
   "metadata": {
    "tags": []
   },
   "source": [
    "## Clean up\n",
    "\n",
    "To stop and remove the container:"
   ]
  },
  {
   "cell_type": "code",
   "execution_count": 79,
   "id": "83f0e93d-82c5-4633-a3f9-9a95ea95154f",
   "metadata": {
    "tags": []
   },
   "outputs": [
    {
     "name": "stdout",
     "output_type": "stream",
     "text": [
      "CONTAINER ID   IMAGE                          COMMAND                  CREATED              STATUS              PORTS                                                                                      NAMES\n",
      "f6fa35731791   cockroachdb/cockroach:latest   \"/cockroach/cockroac…\"   About a minute ago   Up About a minute   0.0.0.0:8080->8080/tcp, :::8080->8080/tcp, 0.0.0.0:26257->26257/tcp, :::26257->26257/tcp   roach\n"
     ]
    }
   ],
   "source": [
    "! docker container ls"
   ]
  },
  {
   "cell_type": "code",
   "execution_count": 80,
   "id": "59157a99-35f0-47c4-b23d-4d20b48c4432",
   "metadata": {
    "tags": []
   },
   "outputs": [],
   "source": [
    "%%capture out\n",
    "! docker container ls --filter name=roach --quiet"
   ]
  },
  {
   "cell_type": "code",
   "execution_count": 81,
   "id": "30b0dc61-5478-4131-8da1-f9b281e85528",
   "metadata": {
    "tags": []
   },
   "outputs": [
    {
     "name": "stdout",
     "output_type": "stream",
     "text": [
      "Container id: f6fa35731791\n"
     ]
    }
   ],
   "source": [
    "container_id = out.stdout.strip()\n",
    "print(f\"Container id: {container_id}\")"
   ]
  },
  {
   "cell_type": "code",
   "execution_count": 82,
   "id": "d6d2b6b7-a747-4eb0-a10b-b1487a9d4bfd",
   "metadata": {
    "tags": []
   },
   "outputs": [
    {
     "name": "stdout",
     "output_type": "stream",
     "text": [
      "f6fa35731791\n"
     ]
    }
   ],
   "source": [
    "! docker container stop {container_id}"
   ]
  },
  {
   "cell_type": "code",
   "execution_count": 83,
   "id": "7d28c8f8-ddb0-46b3-89cd-30225a908d22",
   "metadata": {
    "tags": []
   },
   "outputs": [
    {
     "name": "stdout",
     "output_type": "stream",
     "text": [
      "Error: No such container: f6fa35731791\n"
     ]
    }
   ],
   "source": [
    "! docker container rm {container_id}"
   ]
  },
  {
   "cell_type": "code",
   "execution_count": 84,
   "id": "31b9a74f-a12c-482f-9ff7-60802ad1cce2",
   "metadata": {
    "tags": []
   },
   "outputs": [
    {
     "name": "stdout",
     "output_type": "stream",
     "text": [
      "CONTAINER ID   IMAGE     COMMAND   CREATED   STATUS    PORTS     NAMES\n"
     ]
    }
   ],
   "source": [
    "! docker container ls"
   ]
  },
  {
   "cell_type": "code",
   "execution_count": null,
   "id": "98b2c590-dbee-4132-aac9-9e35fd8030bc",
   "metadata": {},
   "outputs": [],
   "source": []
  }
 ],
 "metadata": {
  "kernelspec": {
   "display_name": "Python 3 (ipykernel)",
   "language": "python",
   "name": "python3"
  },
  "language_info": {
   "codemirror_mode": {
    "name": "ipython",
    "version": 3
   },
   "file_extension": ".py",
   "mimetype": "text/x-python",
   "name": "python",
   "nbconvert_exporter": "python",
   "pygments_lexer": "ipython3",
   "version": "3.10.10"
  }
 },
 "nbformat": 4,
 "nbformat_minor": 5
}
